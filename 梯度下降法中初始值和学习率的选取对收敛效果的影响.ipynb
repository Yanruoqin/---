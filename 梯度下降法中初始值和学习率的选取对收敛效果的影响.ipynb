{
 "cells": [
  {
   "cell_type": "markdown",
   "metadata": {},
   "source": [
    "在深度学习训练中，经常使用梯度下降法来优化损失函数，使得损失函数最小。\n",
    "在调参过程中，发现不同的初始化训练参数loss的收敛速度不一样，比如正态分布初始化有时就要比全0初始化要好。另外，学习率的大小也是一个重要的超参数。\n",
    "下面通过一两个极简化的例子来感受一下为何会有这种现象。"
   ]
  },
  {
   "cell_type": "markdown",
   "metadata": {},
   "source": [
    " 梯度下降法：\n",
    "    $\\theta ^{k+1}$ = $\\theta ^{k}$ -$\\eta \\frac{\\partial f(\\theta)}{\\partial \\theta}$ "
   ]
  },
  {
   "cell_type": "markdown",
   "metadata": {},
   "source": [
    "## 1、举个简单例子，说明合适的选取初始值和学习率能加速损失函数收敛"
   ]
  },
  {
   "cell_type": "markdown",
   "metadata": {},
   "source": [
    "损失函数：\n",
    " $f(\\theta)$ = $\\theta ^{2}$"
   ]
  },
  {
   "cell_type": "markdown",
   "metadata": {},
   "source": [
    "目标：选取合适的初始值和学习率，利用梯度下降法，快速得到函数最小值"
   ]
  },
  {
   "cell_type": "markdown",
   "metadata": {},
   "source": [
    " 梯度：$\\frac{\\partial f(\\theta)}{\\partial \\theta} = 2\\theta$     \n",
    " 学习率: $\\eta$"
   ]
  },
  {
   "cell_type": "markdown",
   "metadata": {},
   "source": [
    "参数更新公式：$\\theta ^{k+1}$ = $\\theta ^{k}$ -$\\eta 2\\theta ^{k}$ = $\\theta ^{k}(1-2\\eta)$"
   ]
  },
  {
   "cell_type": "markdown",
   "metadata": {},
   "source": [
    "假设初始值$\\theta ^{0} = 1$，学习率$\\eta = 0.5$。当损失函数小于$\\sigma = 1E^{4}$时认为收敛了，停止更新"
   ]
  },
  {
   "cell_type": "markdown",
   "metadata": {},
   "source": [
    "迭代过程如下："
   ]
  },
  {
   "cell_type": "markdown",
   "metadata": {},
   "source": [
    "$\\theta ^{0} = 1$, $f(\\theta ^{0}) = 1 > \\sigma$ 继续更新"
   ]
  },
  {
   "cell_type": "markdown",
   "metadata": {},
   "source": [
    "$\\theta ^{1} = 1\\times(1-2\\times0.5)$, $f(\\theta ^{1}) = 0 < \\sigma$ 停止更新"
   ]
  },
  {
   "cell_type": "markdown",
   "metadata": {},
   "source": [
    "只更新了一次参数就停止了！"
   ]
  },
  {
   "cell_type": "markdown",
   "metadata": {},
   "source": [
    "下面通过简单的程序演示刚才的过程"
   ]
  },
  {
   "cell_type": "code",
   "execution_count": 3,
   "metadata": {},
   "outputs": [
    {
     "data": {
      "image/png": "[encoded data removed]",
      "text/plain": [
       "<Figure size 432x288 with 1 Axes>"
      ]
     },
     "metadata": {
      "needs_background": "light"
     },
     "output_type": "display_data"
    }
   ],
   "source": [
    "import numpy as np\n",
    "import matplotlib.pyplot as plt\n",
    "plot_x=np.linspace(-10,10,100)   #在-10到10之间等距的生成100个数\n",
    "plot_y=plot_x**2   # 根据x来生成y\n",
    "plt.plot(plot_x,plot_y)\n",
    "plt.show()"
   ]
  },
  {
   "cell_type": "code",
   "execution_count": 4,
   "metadata": {},
   "outputs": [],
   "source": [
    "###定义一个计算梯度的函数dJ\n",
    "def dJ(x):\n",
    "    return 2*x\n",
    "\n",
    "###定义一个求函数值的函数J\n",
    "def J(x):\n",
    "    try:\n",
    "        return x**2\n",
    "    except:\n",
    "        return float('inf')\n"
   ]
  },
  {
   "cell_type": "code",
   "execution_count": 5,
   "metadata": {},
   "outputs": [],
   "source": [
    "x=1\t\t\t\t\t\t\t#选取一个起始点\n",
    "eta=0.5\t\t\t\t\t\t    #学习率\n",
    "epsilon=1e-4\t\t\t\t    #用来判断是否到达函数的最小值点的条件\n",
    "history_x=[x]                   #用来记录使用梯度下降法走过的点的X坐标\n",
    "while True:\n",
    "    gradient=dJ(x)\t\t\t\t#梯度（导数）\n",
    "    last_x=x\n",
    "    x=x-eta*gradient\n",
    "    history_x.append(x)\n",
    "    if (abs(J(last_x)-J(x)) <epsilon):\t\t#用来判断是否逼近最低点\n",
    "        break\n"
   ]
  },
  {
   "cell_type": "code",
   "execution_count": 23,
   "metadata": {},
   "outputs": [
    {
     "name": "stdout",
     "output_type": "stream",
     "text": [
      "[1, 0.0, 0.0]\n"
     ]
    },
    {
     "data": {
      "image/png": "[encoded data removed]",
      "text/plain": [
       "<Figure size 432x288 with 1 Axes>"
      ]
     },
     "metadata": {
      "needs_background": "light"
     },
     "output_type": "display_data"
    }
   ],
   "source": [
    "print(history_x)\t        #打印到达最低点时x的值\n",
    "plt.plot(plot_x,plot_y)     \n",
    "plt.plot(np.array(history_x),J(np.array(history_x)),color='r',marker='*')   #绘制x的轨迹\n",
    "plt.show()"
   ]
  },
  {
   "cell_type": "markdown",
   "metadata": {},
   "source": [
    "## 第二个简单例子，参数初始值和学习率选的不够好，损失函数难以收敛"
   ]
  },
  {
   "cell_type": "markdown",
   "metadata": {},
   "source": [
    "损失函数：\n",
    " $f(\\theta)$ = $\\theta ^{2} - 2\\theta$"
   ]
  },
  {
   "cell_type": "markdown",
   "metadata": {},
   "source": [
    "目标：选取不合适的初始值和学习率，使得损失函数不收敛"
   ]
  },
  {
   "cell_type": "markdown",
   "metadata": {},
   "source": [
    " 梯度：$\\frac{\\partial f(\\theta)}{\\partial \\theta} = 2（\\theta - 1）$     \n",
    " 学习率: $\\eta$"
   ]
  },
  {
   "cell_type": "markdown",
   "metadata": {},
   "source": [
    "参数更新公式：$\\theta ^{k+1}$ = $\\theta ^{k}(1-2\\eta) + 2\\eta$"
   ]
  },
  {
   "cell_type": "markdown",
   "metadata": {},
   "source": [
    "假设初始值$\\theta ^{0} = 1$，学习率$\\eta = 0.8$。当损失函数小于$\\sigma = 1E^{4}$时认为收敛了，停止更新"
   ]
  },
  {
   "cell_type": "markdown",
   "metadata": {},
   "source": [
    "迭代过程如下："
   ]
  },
  {
   "cell_type": "markdown",
   "metadata": {},
   "source": [
    "$\\theta ^{0} = 1$, $f(\\theta ^{0}) = -1 > \\sigma$ 继续更新"
   ]
  },
  {
   "cell_type": "markdown",
   "metadata": {},
   "source": [
    "$\\theta ^{1} = 1\\times(1-2\\times0.8) + 2\\times0.8 = 1$, 这里问题来了，参数$\\theta$还是1，根本没有得到更新。我们选取的初始值和学习率恰好导致参数一成不变，那么我们的损失函数一直等于-1，距离我们的判断值$\\sigma$还有很大距离"
   ]
  },
  {
   "cell_type": "markdown",
   "metadata": {},
   "source": [
    "下面通过程序来观察这个过程"
   ]
  },
  {
   "cell_type": "code",
   "execution_count": 8,
   "metadata": {},
   "outputs": [
    {
     "data": {
      "image/png": "[encoded data removed]",
      "text/plain": [
       "<Figure size 432x288 with 1 Axes>"
      ]
     },
     "metadata": {
      "needs_background": "light"
     },
     "output_type": "display_data"
    }
   ],
   "source": [
    "import numpy as np\n",
    "import matplotlib.pyplot as plt\n",
    "plot_x=np.linspace(-9,11,100)   #在-9到11之间等距的生成100个数\n",
    "plot_y=plot_x**2 - 2*plot_x\t   # 同时根据plot_x来生成plot_y\n",
    "plt.plot(plot_x,plot_y)\n",
    "plt.show()"
   ]
  },
  {
   "cell_type": "code",
   "execution_count": 9,
   "metadata": {},
   "outputs": [],
   "source": [
    "###定义一个求梯度的函数dJ\n",
    "def dJ(x):\n",
    "    return 2*x - 2\n",
    "\n",
    "###定义一个求函数值的函数J\n",
    "def J(x):\n",
    "    try:\n",
    "        return x**2 - 2*x\n",
    "    except:\n",
    "        return float('inf')"
   ]
  },
  {
   "cell_type": "code",
   "execution_count": 10,
   "metadata": {},
   "outputs": [],
   "source": [
    "x=1\t\t\t\t\t\t\t#选取一个起始点\n",
    "eta=0.8\t\t\t\t\t\t    #学习率\n",
    "epsilon=-1.5\t\t\t\t    #用来判断是否到达二次函数的最小值点的条件\n",
    "history_x=[x]                   #用来记录使用梯度下降法走过的点的X坐标\n",
    "for i in range(10):\n",
    "    gradient=dJ(x)\t\t\t\t#梯度（导数）\n",
    "    last_x=x\n",
    "    x=x-eta*gradient\n",
    "    history_x.append(x)\n",
    "    if (abs(J(last_x)-J(x)) <epsilon):\t\t#用来判断是否逼近最低点\n",
    "        break"
   ]
  },
  {
   "cell_type": "code",
   "execution_count": 11,
   "metadata": {},
   "outputs": [
    {
     "name": "stdout",
     "output_type": "stream",
     "text": [
      "[1, 1.0, 1.0, 1.0, 1.0, 1.0, 1.0, 1.0, 1.0, 1.0, 1.0]\n"
     ]
    },
    {
     "data": {
      "image/png": "[encoded data removed]",
      "text/plain": [
       "<Figure size 432x288 with 1 Axes>"
      ]
     },
     "metadata": {
      "needs_background": "light"
     },
     "output_type": "display_data"
    }
   ],
   "source": [
    "print(history_x)\t        #打印到达最低点时x的值\n",
    "plt.plot(plot_x,plot_y)     \n",
    "plt.plot(np.array(history_x),J(np.array(history_x)),color='r',marker='*')   #绘制x的轨迹\n",
    "plt.show()"
   ]
  },
  {
   "cell_type": "markdown",
   "metadata": {},
   "source": [
    "可以看到参数位置没有变化，损失函数也没减少，这次的参数初始化和学习率选取非常失败。"
   ]
  },
  {
   "cell_type": "markdown",
   "metadata": {},
   "source": [
    "## 总结：以上两个例子只为说明为什么会参数初始化以及学习率的选择会对训练影响很大，在实际的例子中，很少会出现一次更新到位或永不更新的情况，更多的情况是影响甚微。"
   ]
  }
 ],
 "metadata": {
  "kernelspec": {
   "display_name": "Python 3",
   "language": "python",
   "name": "python3"
  },
  "language_info": {
   "codemirror_mode": {
    "name": "ipython",
    "version": 3
   },
   "file_extension": ".py",
   "mimetype": "text/x-python",
   "name": "python",
   "nbconvert_exporter": "python",
   "pygments_lexer": "ipython3",
   "version": "3.7.0"
  }
 },
 "nbformat": 4,
 "nbformat_minor": 2
}
