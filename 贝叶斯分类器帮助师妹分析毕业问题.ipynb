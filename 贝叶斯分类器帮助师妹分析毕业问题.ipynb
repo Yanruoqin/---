{
 "cells": [
  {
   "cell_type": "markdown",
   "metadata": {},
   "source": [
    "今天师妹又开始向我倾诉她对能否顺利毕业的担忧。我已经告诉过她好几次了，没事的，别担心，一定能顺利毕业的。但师妹还是不放心，整天忧心忡忡的。我实在看不下去了，这次我打算科学的帮助她分析能否顺利毕业的问题，打消她的担忧，让她能够安心科研。\n",
    "接下来我用贝叶斯分类器，来分析我们课题组已毕业的师兄师姐的信息，然后根据师妹的特征，判断师妹是属于顺利毕业的一类，还是延期毕业的一类。"
   ]
  },
  {
   "cell_type": "code",
   "execution_count": 3,
   "metadata": {},
   "outputs": [],
   "source": [
    "import pandas as pd\n",
    "fpath = \"./课题组毕业的师兄师姐信息.xlsx\"\n",
    "df = pd.read_excel(fpath)"
   ]
  },
  {
   "cell_type": "code",
   "execution_count": 4,
   "metadata": {},
   "outputs": [
    {
     "data": {
      "text/html": [
       "<div>\n",
       "<style scoped>\n",
       "    .dataframe tbody tr th:only-of-type {\n",
       "        vertical-align: middle;\n",
       "    }\n",
       "\n",
       "    .dataframe tbody tr th {\n",
       "        vertical-align: top;\n",
       "    }\n",
       "\n",
       "    .dataframe thead th {\n",
       "        text-align: right;\n",
       "    }\n",
       "</style>\n",
       "<table border=\"1\" class=\"dataframe\">\n",
       "  <thead>\n",
       "    <tr style=\"text-align: right;\">\n",
       "      <th></th>\n",
       "      <th>序号</th>\n",
       "      <th>顺利毕业(Y)</th>\n",
       "      <th>喜欢玩游戏(x1)</th>\n",
       "      <th>热爱思考(x2)</th>\n",
       "      <th>谈恋爱(x3)</th>\n",
       "      <th>勤奋(x4)</th>\n",
       "    </tr>\n",
       "  </thead>\n",
       "  <tbody>\n",
       "    <tr>\n",
       "      <th>0</th>\n",
       "      <td>1</td>\n",
       "      <td>0</td>\n",
       "      <td>0</td>\n",
       "      <td>0</td>\n",
       "      <td>1</td>\n",
       "      <td>0</td>\n",
       "    </tr>\n",
       "    <tr>\n",
       "      <th>1</th>\n",
       "      <td>2</td>\n",
       "      <td>1</td>\n",
       "      <td>0</td>\n",
       "      <td>1</td>\n",
       "      <td>0</td>\n",
       "      <td>1</td>\n",
       "    </tr>\n",
       "    <tr>\n",
       "      <th>2</th>\n",
       "      <td>3</td>\n",
       "      <td>1</td>\n",
       "      <td>1</td>\n",
       "      <td>1</td>\n",
       "      <td>1</td>\n",
       "      <td>1</td>\n",
       "    </tr>\n",
       "    <tr>\n",
       "      <th>3</th>\n",
       "      <td>4</td>\n",
       "      <td>0</td>\n",
       "      <td>0</td>\n",
       "      <td>1</td>\n",
       "      <td>0</td>\n",
       "      <td>0</td>\n",
       "    </tr>\n",
       "    <tr>\n",
       "      <th>4</th>\n",
       "      <td>5</td>\n",
       "      <td>1</td>\n",
       "      <td>1</td>\n",
       "      <td>0</td>\n",
       "      <td>1</td>\n",
       "      <td>1</td>\n",
       "    </tr>\n",
       "    <tr>\n",
       "      <th>5</th>\n",
       "      <td>6</td>\n",
       "      <td>1</td>\n",
       "      <td>0</td>\n",
       "      <td>1</td>\n",
       "      <td>1</td>\n",
       "      <td>0</td>\n",
       "    </tr>\n",
       "    <tr>\n",
       "      <th>6</th>\n",
       "      <td>7</td>\n",
       "      <td>0</td>\n",
       "      <td>1</td>\n",
       "      <td>0</td>\n",
       "      <td>1</td>\n",
       "      <td>0</td>\n",
       "    </tr>\n",
       "    <tr>\n",
       "      <th>7</th>\n",
       "      <td>8</td>\n",
       "      <td>1</td>\n",
       "      <td>1</td>\n",
       "      <td>1</td>\n",
       "      <td>0</td>\n",
       "      <td>1</td>\n",
       "    </tr>\n",
       "  </tbody>\n",
       "</table>\n",
       "</div>"
      ],
      "text/plain": [
       "   序号  顺利毕业(Y)  喜欢玩游戏(x1)  热爱思考(x2)  谈恋爱(x3)  勤奋(x4)\n",
       "0   1        0          0         0        1       0\n",
       "1   2        1          0         1        0       1\n",
       "2   3        1          1         1        1       1\n",
       "3   4        0          0         1        0       0\n",
       "4   5        1          1         0        1       1\n",
       "5   6        1          0         1        1       0\n",
       "6   7        0          1         0        1       0\n",
       "7   8        1          1         1        0       1"
      ]
     },
     "execution_count": 4,
     "metadata": {},
     "output_type": "execute_result"
    }
   ],
   "source": [
    "df"
   ]
  },
  {
   "cell_type": "markdown",
   "metadata": {},
   "source": [
    "上面的表格就是我列举的课题组已毕业师兄师姐的信息，一共有8位。他们分为了两类，顺利毕业，即为1；延期毕业即为0。他们每人都具有4个特征，也分别用0和1表示。比如序号为1的师兄，他不喜欢玩游戏、不热爱思考、谈恋爱、不勤奋(0,0,1,0)，结果就是他延期毕业了。"
   ]
  },
  {
   "cell_type": "markdown",
   "metadata": {},
   "source": [
    "首先我给师妹讲了一些基本概率知识。\n",
    "* 我问这8个人里顺利毕业的比例，师妹说$P(Y=1)=5/8$，   我告诉师妹这叫做先验概率。 当然我们也知道$P(x1=1)=4/8$ 。\n",
    "\n",
    "* 接着我告诉师妹，喜欢玩游戏的人里有几个顺利毕业的？师妹说喜欢玩游戏的人有4个，有3个顺利毕业了。那么$P(Y=1|x1=1)=3/4$  我告诉师妹这叫条件概率。\n",
    "\n",
    "* 最后我问师妹，这8个人中，喜欢玩游戏且顺利毕业的人有几个？师妹说有3个。 即$P(Y=1,x1=1)=3/8$，    我告诉师妹这叫做联合概率分布。\n",
    "\n",
    "* 接下来我跟师妹讲，这三个概率满足关系\n",
    "- $P(Y=1|x1=1) = \\frac{P(Y=1,x1=1)}{P(x1=1)}$   （1）\n",
    "\n",
    "同样的\n",
    "- $P(x1=1|Y=1) = \\frac{P(x1=1,Y=1)}{P(Y=1)}$    （2）\n",
    "我跟师妹说公式（1）和公式（2）的分子都是一样的，师妹也发现了，问我能不能联立两个式子。我联立后，得到了下面这个公式\n",
    "- $P(Y=1|x1=1) = \\frac{P(x1=1|Y=1)P(Y)}{P(x1=1)}$  （3）  \n",
    "我们把公式（3）再写得一般化一点，就得到了贝叶斯公式\n",
    "- $P(Y|x) = \\frac{P(x|Y)P(Y)}{P(x)}$           (4)\n"
   ]
  },
  {
   "cell_type": "markdown",
   "metadata": {},
   "source": [
    "聊天聊到这里，师妹已经开始急了，说了一大堆，到底怎么知道她能不能顺利毕业呀。"
   ]
  },
  {
   "cell_type": "markdown",
   "metadata": {},
   "source": [
    "接下来我给师妹写了两个判断她能否按时毕业的公式\n",
    "- $P(Y=1|x1,x2,x3,x4) = \\frac{P(x1,x2,x3,x4|Y=1)P(Y=1)}{P(x1,x2,x3,x4)}$\n",
    "- $P(Y=0|x1,x2,x3,x4) = \\frac{P(x1,x2,x3,x4|Y=0)P(Y=0)}{P(x1,x2,x3,x4)}$\n",
    "- 我说你只要比较这两个概率的大小就行了，要是$P(Y=1|x1,x2,x3,x4)>P(Y=0|x1,x2,x3,x4)$，你就能顺利毕业。师妹看这个公式太复杂了，不想算。我说实际上这两个式子分母都是一样的，只要比较分子就可以了，即\n",
    "### 判断 $P(x1,x2,x3,x4|Y=1)P(Y=1)$和$P(x1,x2,x3,x4|Y=0)P(Y=0)$的大小，如果$P(x1,x2,x3,x4|Y=1)P(Y=1)$更大，则师妹能顺利毕业；如果$P(x1,x2,x3,x4|Y=0)P(Y=0)$更大，则师妹延期毕业"
   ]
  },
  {
   "cell_type": "markdown",
   "metadata": {},
   "source": [
    "我让师妹算一下，可师妹仍然面露难色，说这两个条件概率不好算。我只好给她作进一步简化，我说朴素贝叶斯法对条件概率作了条件独立性假设\n",
    "- $P(x1,x2,x3,x4|Y=1) = P(x1|Y=1)P(x2|Y=1)P(x3|Y=1)P(x4|Y=1)$"
   ]
  },
  {
   "cell_type": "markdown",
   "metadata": {},
   "source": [
    "师妹看到这很开心，觉得可以开始分析了。我问师妹是哪种人，师妹说她不玩游戏、不爱思考、不谈恋爱，唯有勤奋（0,0,0,1）。那接下来就看看勤奋的力量。"
   ]
  },
  {
   "cell_type": "markdown",
   "metadata": {},
   "source": [
    "## 我们首先计算先验概率 "
   ]
  },
  {
   "cell_type": "markdown",
   "metadata": {},
   "source": [
    "- $P(Y=1)=5/8$  \n",
    "- $P(Y=0)=3/8$"
   ]
  },
  {
   "cell_type": "markdown",
   "metadata": {},
   "source": [
    "## 然后我们分别计算条件概率\n"
   ]
  },
  {
   "cell_type": "markdown",
   "metadata": {},
   "source": [
    "- $P(x1=0|Y=1)=2/5$; $P(x1=0|Y=0)=2/3$\n",
    "- $P(x2=0|Y=1)=1/5$; $P(x2=0|Y=0)=2/3$\n",
    "- $P(x3=0|Y=1)=2/5$; $P(x3=0|Y=0)=1/3$\n",
    "- $P(x4=1|Y=1)=1/5$; $P(x4=1|Y=0)=0$"
   ]
  },
  {
   "cell_type": "markdown",
   "metadata": {},
   "source": [
    "## 最后比较两个类别的概率"
   ]
  },
  {
   "cell_type": "markdown",
   "metadata": {},
   "source": [
    "- $P(x1=0|Y=1)P(x2=0|Y=1)P(x3=0|Y=1)P(x4=1|Y=1)P(Y=1) = 1/250$\n",
    "- $P(x1=0|Y=1)P(x2=0|Y=1)P(x3=0|Y=0)P(x4=1|Y=0)P(Y=0) = 0$"
   ]
  },
  {
   "cell_type": "markdown",
   "metadata": {},
   "source": [
    "算完后，我告诉师妹，你顺利毕业的概率是1/250，延期毕业的概率是0，顺利毕业的概率更大，所以你能顺利毕业！\n",
    "师妹听后却开心不起来，埋怨我骗她，延期毕业的概率为0，这个贝叶斯分类器根本不靠谱。"
   ]
  },
  {
   "cell_type": "markdown",
   "metadata": {},
   "source": [
    "我赶紧检查上面的过程，原来我们的8个样本里，没有出现勤奋却毕不了业的人，因此P(x4=1|Y=0)条件概率总是0。\n",
    "我跟师妹讲，我们上面计算条件概率时使用的是极大似然估计，容易出现概率为0的情况\n",
    "- 极大似然估计 $P(Y|x) = \\frac{P(Y,x)}{P(x)}$"
   ]
  },
  {
   "cell_type": "markdown",
   "metadata": {},
   "source": [
    "为避免分类产生偏差，解决这一办法的方法是采用贝叶斯估计，具体来说，就是如下\n",
    "- 贝叶斯估计 $P(Y|x)=\\frac{P(Y, x) + \\lambda }{P(x) + S*\\lambda}$,    其中$\\lambda >=0$, $S$表示这个特征的几种选择，比如特征勤奋下只有0和1两个选择，则$S$=2。"
   ]
  },
  {
   "cell_type": "markdown",
   "metadata": {},
   "source": [
    "可以发现，当$\\lambda =0$时就是极大似然估计；当$\\lambda =1$时称为拉普拉斯平滑。"
   ]
  },
  {
   "cell_type": "markdown",
   "metadata": {},
   "source": [
    "下面我们再使用$\\lambda =1$重新估算师妹能否顺利毕业。|"
   ]
  },
  {
   "cell_type": "markdown",
   "metadata": {},
   "source": [
    "## 我们首先计算先验概率 "
   ]
  },
  {
   "cell_type": "markdown",
   "metadata": {},
   "source": [
    "- $P(Y=1)=6/10$  \n",
    "- $P(Y=0)=4/10$"
   ]
  },
  {
   "cell_type": "markdown",
   "metadata": {},
   "source": [
    "## 然后我们使用贝叶斯估计分别计算条件概率"
   ]
  },
  {
   "cell_type": "markdown",
   "metadata": {},
   "source": [
    "- $P(x1=0|Y=1)=3/7$; $P(x1=0|Y=0)=3/5$\n",
    "- $P(x2=0|Y=1)=2/7$; $P(x2=0|Y=0)=3/5$\n",
    "- $P(x3=0|Y=1)=3/7$; $P(x3=0|Y=0)=2/5$\n",
    "- $P(x4=1|Y=1)=2/7$; $P(x4=1|Y=0)=1/5$"
   ]
  },
  {
   "cell_type": "markdown",
   "metadata": {},
   "source": [
    "## 最后比较两个类别的概率"
   ]
  },
  {
   "cell_type": "markdown",
   "metadata": {},
   "source": [
    "- $P(x1=0|Y=1)P(x2=0|Y=1)P(x3=0|Y=1)P(x4=1|Y=1)P(Y=1) = \\frac{216}{2401}$\n",
    "- $P(x1=0|Y=1)P(x2=0|Y=1)P(x3=0|Y=0)P(x4=1|Y=0)P(Y=0) = \\frac{72}{6250}$"
   ]
  },
  {
   "cell_type": "markdown",
   "metadata": {},
   "source": [
    "显然师妹顺利毕业的概率更大。师妹听完我的分析后脸上又重现了笑容，感谢我替她分析，还说要请我吃饭。我说不用了，给个一键三连就行！"
   ]
  }
 ],
 "metadata": {
  "kernelspec": {
   "display_name": "Python 3",
   "language": "python",
   "name": "python3"
  },
  "language_info": {
   "codemirror_mode": {
    "name": "ipython",
    "version": 3
   },
   "file_extension": ".py",
   "mimetype": "text/x-python",
   "name": "python",
   "nbconvert_exporter": "python",
   "pygments_lexer": "ipython3",
   "version": "3.7.0"
  }
 },
 "nbformat": 4,
 "nbformat_minor": 2
}
