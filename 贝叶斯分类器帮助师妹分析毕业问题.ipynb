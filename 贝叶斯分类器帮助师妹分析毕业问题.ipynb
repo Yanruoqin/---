{
 "cells": [
  {
   "cell_type": "markdown",
   "metadata": {},
   "source": [
    "今天师妹又开始向我倾诉她对能否顺利毕业的担忧。我已经告诉过她好几次了，没事的，别担心，一定能顺利毕业的。但师妹还是不放心，整天忧心忡忡的。我实在看不下去了，这次我打算科学的帮助她分析能否顺利毕业的问题，打消她的担忧，让她能够安心科研。\n",
    "接下来我用贝叶斯分类器，来分析我们课题组已毕业的师兄师姐的信息，然后根据师妹的特征，判断师妹是属于顺利毕业的一类，还是延期毕业的一类。"
   ]
  },
  {
   "cell_type": "code",
   "execution_count": 3,
   "metadata": {},
   "outputs": [],
   "source": [
    "import pandas as pd\n",
    "fpath = \"./课题组毕业的师兄师姐信息.xlsx\"\n",
    "df = pd.read_excel(fpath)"
   ]
  },
  {
   "cell_type": "code",
   "execution_count": 4,
   "metadata": {},
   "outputs": [
    {
     "data": {
      "text/html": [
       "<div>\n",
       "<style scoped>\n",
       "    .dataframe tbody tr th:only-of-type {\n",
       "        vertical-align: middle;\n",
       "    }\n",
       "\n",
       "    .dataframe tbody tr th {\n",
       "        vertical-align: top;\n",
       "    }\n",
       "\n",
       "    .dataframe thead th {\n",
       "        text-align: right;\n",
       "    }\n",
       "</style>\n",
       "<table border=\"1\" class=\"dataframe\">\n",
       "  <thead>\n",
       "    <tr style=\"text-align: right;\">\n",
       "      <th></th>\n",
       "      <th>序号</th>\n",
       "      <th>顺利毕业(Y)</th>\n",
       "      <th>喜欢玩游戏(x1)</th>\n",
       "      <th>热爱思考(x2)</th>\n",
       "      <th>谈恋爱(x3)</th>\n",
       "      <th>勤奋(x4)</th>\n",
       "    </tr>\n",
       "  </thead>\n",
       "  <tbody>\n",
       "    <tr>\n",
       "      <th>0</th>\n",
       "      <td>1</td>\n",
       "      <td>0</td>\n",
       "      <td>0</td>\n",
       "      <td>0</td>\n",
       "      <td>1</td>\n",
       "      <td>0</td>\n",
       "    </tr>\n",
       "    <tr>\n",
       "      <th>1</th>\n",
       "      <td>2</td>\n",
       "      <td>1</td>\n",
       "      <td>0</td>\n",
       "      <td>1</td>\n",
       "      <td>0</td>\n",
       "      <td>1</td>\n",
       "    </tr>\n",
       "    <tr>\n",
       "      <th>2</th>\n",
       "      <td>3</td>\n",
       "      <td>1</td>\n",
       "      <td>1</td>\n",
       "      <td>1</td>\n",
       "      <td>1</td>\n",
       "      <td>1</td>\n",
       "    </tr>\n",
       "    <tr>\n",
       "      <th>3</th>\n",
       "      <td>4</td>\n",
       "      <td>0</td>\n",
       "      <td>0</td>\n",
       "      <td>1</td>\n",
       "      <td>0</td>\n",
       "      <td>0</td>\n",
       "    </tr>\n",
       "    <tr>\n",
       "      <th>4</th>\n",
       "      <td>5</td>\n",
       "      <td>1</td>\n",
       "      <td>1</td>\n",
       "      <td>0</td>\n",
       "      <td>1</td>\n",
       "      <td>1</td>\n",
       "    </tr>\n",
       "    <tr>\n",
       "      <th>5</th>\n",
       "      <td>6</td>\n",
       "      <td>1</td>\n",
       "      <td>0</td>\n",
       "      <td>1</td>\n",
       "      <td>1</td>\n",
       "      <td>0</td>\n",
       "    </tr>\n",
       "    <tr>\n",
       "      <th>6</th>\n",
       "      <td>7</td>\n",
       "      <td>0</td>\n",
       "      <td>1</td>\n",
       "      <td>0</td>\n",
       "      <td>1</td>\n",
       "      <td>0</td>\n",
       "    </tr>\n",
       "    <tr>\n",
       "      <th>7</th>\n",
       "      <td>8</td>\n",
       "      <td>1</td>\n",
       "      <td>1</td>\n",
       "      <td>1</td>\n",
       "      <td>0</td>\n",
       "      <td>1</td>\n",
       "    </tr>\n",
       "  </tbody>\n",
       "</table>\n",
       "</div>"
      ],
      "text/plain": [
       "   序号  顺利毕业(Y)  喜欢玩游戏(x1)  热爱思考(x2)  谈恋爱(x3)  勤奋(x4)\n",
       "0   1        0          0         0        1       0\n",
       "1   2        1          0         1        0       1\n",
       "2   3        1          1         1        1       1\n",
       "3   4        0          0         1        0       0\n",
       "4   5        1          1         0        1       1\n",
       "5   6        1          0         1        1       0\n",
       "6   7        0          1         0        1       0\n",
       "7   8        1          1         1        0       1"
      ]
     },
     "execution_count": 4,
     "metadata": {},
     "output_type": "execute_result"
    }
   ],
   "source": [
    "df"
   ]
  },
  {
   "cell_type": "markdown",
   "metadata": {},
   "source": [
    "上面的表格就是我列举的课题组已毕业师兄师姐的信息，一共有8位。他们分为了两类，顺利毕业，即为1；延期毕业即为0。他们每人都具有4个特征，也分别用0和1表示。比如序号为1的师兄，他不喜欢玩游戏、不热爱思考、谈恋爱、不勤奋(0,0,1,0)，结果就是他延期毕业了。"
   ]
  },
  {
   "cell_type": "markdown",
   "metadata": {},
   "source": [
    "首先我给师妹讲了一些基本概率知识。\n",
    "* 我问这8个人里顺利毕业的比例，师妹说$P(Y=1)=5/8$，   我告诉师妹这叫做先验概率。 当然我们也知道$P(x1=1)=4/8$ 。\n",
    "\n",
    "* 接着我告诉师妹，喜欢玩游戏的人里有几个顺利毕业的？师妹说喜欢玩游戏的人有4个，有3个顺利毕业了。那么$P(Y=1|x1=1)=3/4$  我告诉师妹这叫条件概率。\n",
    "\n",
    "* 最后我问师妹，这8个人中，喜欢玩游戏且顺利毕业的人有几个？师妹说有3个。 即$P(Y=1,x1=1)=3/8$，    我告诉师妹这叫做联合概率分布。\n",
    "\n",
    "* 接下来我跟师妹讲，这三个概率满足关系\n",
    "- $P(Y=1|x1=1) = \\frac{P(Y=1,x1=1)}{P(x1=1)}$   （1）\n",
    "\n",
    "同样的\n",
    "- $P(x1=1|Y=1) = \\frac{P(x1=1,Y=1)}{P(Y=1)}$    （2）\n",
    "我跟师妹说公式（1）和公式（2）的分子都是一样的，师妹也发现了，问我能不能联立两个式子。我联立后，得到了下面这个公式\n",
    "- $P(Y=1|x1=1) = \\frac{P(x1=1|Y=1)P(Y)}{P(x1=1)}$  （3）  \n",
    "我们把公式（3）再写得一般化一点，就得到了贝叶斯公式\n",
    "- $P(Y|x) = \\frac{P(x|Y)P(Y)}{P(x)}$           (4)\n"
   ]
  },
  {
   "cell_type": "markdown",
   "metadata": {},
   "source": [
    "聊天聊到这里，师妹已经开始急了，说了一大堆，到底怎么知道她能不能顺利毕业呀。"
   ]
  },
  {
   "cell_type": "markdown",
   "metadata": {},
   "source": [
    "接下来我给师妹写了两个判断她能否按时毕业的公式\n",
    "- $P(Y=1|x1,x2,x3,x4) = \\frac{P(x1,x2,x3,x4|Y=1)P(Y=1)}{P(x1,x2,x3,x4)}$\n",
    "- $P(Y=0|x1,x2,x3,x4) = \\frac{P(x1,x2,x3,x4|Y=0)P(Y=0)}{P(x1,x2,x3,x4)}$\n",
    "- 我说你只要比较这两个概率的大小就行了，要是$P(Y=1|x1,x2,x3,x4)>P(Y=0|x1,x2,x3,x4)$，你就能顺利毕业。师妹看这个公式太复杂了，不想算。我说实际上这两个式子分母都是一样的，只要比较分子就可以了，即\n",
    "### 判断 $P(x1,x2,x3,x4|Y=1)P(Y=1)$和$P(x1,x2,x3,x4|Y=0)P(Y=0)$的大小，如果$P(x1,x2,x3,x4|Y=1)P(Y=1)$更大，则师妹能顺利毕业；如果$P(x1,x2,x3,x4|Y=0)P(Y=0)$更大，则师妹延期毕业"
   ]
  },
  {
   "cell_type": "markdown",
   "metadata": {},
   "source": [
    "我让师妹算一下，可师妹仍然面露难色，说这两个条件概率不好算。我只好给她作进一步简化，我说朴素贝叶斯法对条件概率作了条件独立性假设\n",
    "- $P(x1,x2,x3,x4|Y=1) = P(x1|Y=1)P(x2|Y=1)P(x3|Y=1)P(x4|Y=1)$"
   ]
  },
  {
   "cell_type": "markdown",
   "metadata": {},
   "source": [
    "师妹看到这很开心，觉得可以开始分析了。我问师妹是哪种人，师妹说她不玩游戏、不爱思考、不谈恋爱，唯有勤奋（0,0,0,1）。那接下来就看看勤奋的力量。"
   ]
  },
  {
   "cell_type": "markdown",
   "metadata": {},
   "source": [
    "## 我们首先计算先验概率 "
   ]
  },
  {
   "cell_type": "markdown",
   "metadata": {},
   "source": [
    "- $P(Y=1)=5/8$  \n",
    "- $P(Y=0)=3/8$"
   ]
  },
  {
   "cell_type": "markdown",
   "metadata": {},
   "source": [
    "## 然后我们分别计算条件概率\n"
   ]
  },
  {
   "cell_type": "markdown",
   "metadata": {},
   "source": [
    "- $P(x1=0|Y=1)=2/5$; $P(x1=0|Y=0)=2/3$\n",
    "- $P(x2=0|Y=1)=1/5$; $P(x2=0|Y=0)=2/3$\n",
    "- $P(x3=0|Y=1)=2/5$; $P(x3=0|Y=0)=1/3$\n",
    "- $P(x4=1|Y=1)=4/5$; $P(x4=1|Y=0)=0$"
   ]
  },
  {
   "cell_type": "markdown",
   "metadata": {},
   "source": [
    "##### 最后比较两个类别的概率"
   ]
  },
  {
   "cell_type": "markdown",
   "metadata": {},
   "source": [
    "- $P(x1=0|Y=1)P(x2=0|Y=1)P(x3=0|Y=1)P(x4=1|Y=1)P(Y=1) = 0.016$\n",
    "- $P(x1=0|Y=1)P(x2=0|Y=1)P(x3=0|Y=0)P(x4=1|Y=0)P(Y=0) = 0$"
   ]
  },
  {
   "cell_type": "markdown",
   "metadata": {},
   "source": [
    "算完后，我告诉师妹，你顺利毕业的概率是0.016，延期毕业的概率是0，顺利毕业的概率更大，所以你能顺利毕业！\n",
    "师妹听后却开心不起来，埋怨我骗她，延期毕业的概率为0，这个贝叶斯分类器根本不靠谱。"
   ]
  },
  {
   "cell_type": "markdown",
   "metadata": {},
   "source": [
    "我赶紧检查上面的过程，原来我们的8个样本里，没有出现勤奋却毕不了业的人，因此P(x4=1|Y=0)条件概率总是0。\n",
    "我跟师妹讲，我们上面计算条件概率时使用的是极大似然估计，容易出现概率为0的情况\n",
    "- 极大似然估计 $P(Y|x) = \\frac{P(Y,x)}{P(x)}$"
   ]
  },
  {
   "cell_type": "markdown",
   "metadata": {},
   "source": [
    "为避免分类产生偏差，解决这一办法的方法是采用贝叶斯估计，具体来说，就是如下\n",
    "- 贝叶斯估计 $P(Y|x)=\\frac{P(Y, x) + \\lambda }{P(x) + S*\\lambda}$,    其中$\\lambda >=0$, $S$表示这个特征的几种选择，比如特征勤奋下只有0和1两个选择，则$S$=2。"
   ]
  },
  {
   "cell_type": "markdown",
   "metadata": {},
   "source": [
    "可以发现，当$\\lambda =0$时就是极大似然估计；当$\\lambda =1$时称为拉普拉斯平滑。"
   ]
  },
  {
   "cell_type": "markdown",
   "metadata": {},
   "source": [
    "下面我们再使用$\\lambda =1$重新估算师妹能否顺利毕业。|"
   ]
  },
  {
   "cell_type": "markdown",
   "metadata": {},
   "source": [
    "## 我们首先计算先验概率 "
   ]
  },
  {
   "cell_type": "markdown",
   "metadata": {},
   "source": [
    "- $P(Y=1)=6/10$  \n",
    "- $P(Y=0)=4/10$"
   ]
  },
  {
   "cell_type": "markdown",
   "metadata": {},
   "source": [
    "## 然后我们使用贝叶斯估计分别计算条件概率"
   ]
  },
  {
   "cell_type": "markdown",
   "metadata": {},
   "source": [
    "- $P(x1=0|Y=1)=3/7$; $P(x1=0|Y=0)=3/5$\n",
    "- $P(x2=0|Y=1)=2/7$; $P(x2=0|Y=0)=3/5$\n",
    "- $P(x3=0|Y=1)=3/7$; $P(x3=0|Y=0)=2/5$\n",
    "- $P(x4=1|Y=1)=5/7$; $P(x4=1|Y=0)=1/5$"
   ]
  },
  {
   "cell_type": "markdown",
   "metadata": {},
   "source": [
    "## 最后比较两个类别的概率"
   ]
  },
  {
   "cell_type": "markdown",
   "metadata": {},
   "source": [
    "- $P(x1=0|Y=1)P(x2=0|Y=1)P(x3=0|Y=1)P(x4=1|Y=1)P(Y=1) = \\frac{54}{2401}$\n",
    "- $P(x1=0|Y=1)P(x2=0|Y=1)P(x3=0|Y=0)P(x4=1|Y=0)P(Y=0) = \\frac{72}{6250}$"
   ]
  },
  {
   "cell_type": "markdown",
   "metadata": {},
   "source": [
    "显然师妹顺利毕业的概率更大。师妹听完我的分析后脸上又重现了笑容，感谢我替她分析，还说要请我吃饭。我说不用了，给个一键三连就行！"
   ]
  },
  {
   "cell_type": "markdown",
   "metadata": {},
   "source": [
    "# 朴素贝叶斯分类的Python实现"
   ]
  },
  {
   "cell_type": "markdown",
   "metadata": {},
   "source": [
    "过了几天，师妹告诉我，她有几个朋友也对毕业的事忧心忡忡，让我给他们也分析一下能否顺利毕业。我想既然人比较多，一个个算肯定不方便，就想写个程序，输入样本信息，直接输出能否顺利毕业的结论。"
   ]
  },
  {
   "cell_type": "code",
   "execution_count": 29,
   "metadata": {},
   "outputs": [
    {
     "data": {
      "text/html": [
       "<div>\n",
       "<style scoped>\n",
       "    .dataframe tbody tr th:only-of-type {\n",
       "        vertical-align: middle;\n",
       "    }\n",
       "\n",
       "    .dataframe tbody tr th {\n",
       "        vertical-align: top;\n",
       "    }\n",
       "\n",
       "    .dataframe thead th {\n",
       "        text-align: right;\n",
       "    }\n",
       "</style>\n",
       "<table border=\"1\" class=\"dataframe\">\n",
       "  <thead>\n",
       "    <tr style=\"text-align: right;\">\n",
       "      <th></th>\n",
       "      <th>顺利毕业</th>\n",
       "      <th>喜欢玩游戏</th>\n",
       "      <th>热爱思考</th>\n",
       "      <th>谈恋爱</th>\n",
       "      <th>勤奋</th>\n",
       "    </tr>\n",
       "    <tr>\n",
       "      <th>序号</th>\n",
       "      <th></th>\n",
       "      <th></th>\n",
       "      <th></th>\n",
       "      <th></th>\n",
       "      <th></th>\n",
       "    </tr>\n",
       "  </thead>\n",
       "  <tbody>\n",
       "    <tr>\n",
       "      <th>1</th>\n",
       "      <td>0</td>\n",
       "      <td>0</td>\n",
       "      <td>0</td>\n",
       "      <td>1</td>\n",
       "      <td>0</td>\n",
       "    </tr>\n",
       "    <tr>\n",
       "      <th>2</th>\n",
       "      <td>1</td>\n",
       "      <td>0</td>\n",
       "      <td>1</td>\n",
       "      <td>0</td>\n",
       "      <td>1</td>\n",
       "    </tr>\n",
       "    <tr>\n",
       "      <th>3</th>\n",
       "      <td>1</td>\n",
       "      <td>1</td>\n",
       "      <td>1</td>\n",
       "      <td>1</td>\n",
       "      <td>1</td>\n",
       "    </tr>\n",
       "    <tr>\n",
       "      <th>4</th>\n",
       "      <td>0</td>\n",
       "      <td>0</td>\n",
       "      <td>1</td>\n",
       "      <td>0</td>\n",
       "      <td>0</td>\n",
       "    </tr>\n",
       "    <tr>\n",
       "      <th>5</th>\n",
       "      <td>1</td>\n",
       "      <td>1</td>\n",
       "      <td>0</td>\n",
       "      <td>1</td>\n",
       "      <td>1</td>\n",
       "    </tr>\n",
       "    <tr>\n",
       "      <th>6</th>\n",
       "      <td>1</td>\n",
       "      <td>0</td>\n",
       "      <td>1</td>\n",
       "      <td>1</td>\n",
       "      <td>0</td>\n",
       "    </tr>\n",
       "    <tr>\n",
       "      <th>7</th>\n",
       "      <td>0</td>\n",
       "      <td>1</td>\n",
       "      <td>0</td>\n",
       "      <td>1</td>\n",
       "      <td>0</td>\n",
       "    </tr>\n",
       "    <tr>\n",
       "      <th>8</th>\n",
       "      <td>1</td>\n",
       "      <td>1</td>\n",
       "      <td>1</td>\n",
       "      <td>0</td>\n",
       "      <td>1</td>\n",
       "    </tr>\n",
       "  </tbody>\n",
       "</table>\n",
       "</div>"
      ],
      "text/plain": [
       "    顺利毕业  喜欢玩游戏  热爱思考  谈恋爱  勤奋\n",
       "序号                            \n",
       "1      0      0     0    1   0\n",
       "2      1      0     1    0   1\n",
       "3      1      1     1    1   1\n",
       "4      0      0     1    0   0\n",
       "5      1      1     0    1   1\n",
       "6      1      0     1    1   0\n",
       "7      0      1     0    1   0\n",
       "8      1      1     1    0   1"
      ]
     },
     "execution_count": 29,
     "metadata": {},
     "output_type": "execute_result"
    }
   ],
   "source": [
    "import pandas as pd\n",
    "import numpy as np\n",
    "fpath = \"./课题组毕业的师兄师姐信息1.xlsx\"\n",
    "df = pd.read_excel(fpath)\n",
    "df.set_index('序号', inplace=True)  ##设定索引为序号，方便按序号筛选\n",
    "df"
   ]
  },
  {
   "cell_type": "markdown",
   "metadata": {},
   "source": [
    "以上就是我们的数据集了。在正式写程序前，我们做一些基本操作"
   ]
  },
  {
   "cell_type": "code",
   "execution_count": 30,
   "metadata": {},
   "outputs": [
    {
     "data": {
      "text/plain": [
       "2"
      ]
     },
     "execution_count": 30,
     "metadata": {},
     "output_type": "execute_result"
    }
   ],
   "source": [
    "#返回分类个数，在我们的数据集中，顺利毕业只有0和1，所以有两类\n",
    "len(pd.value_counts(df['顺利毕业']))"
   ]
  },
  {
   "cell_type": "code",
   "execution_count": 32,
   "metadata": {},
   "outputs": [
    {
     "data": {
      "text/plain": [
       "2"
      ]
     },
     "execution_count": 32,
     "metadata": {},
     "output_type": "execute_result"
    }
   ],
   "source": [
    "#同样的方法，我们可以知道每个特征有几种选择，我们的数据集中，每个特征都只有0-1的选项，故为2中选择\n",
    "len(pd.value_counts(df['勤奋']))"
   ]
  },
  {
   "cell_type": "code",
   "execution_count": 33,
   "metadata": {},
   "outputs": [
    {
     "name": "stdout",
     "output_type": "stream",
     "text": [
      "    顺利毕业  喜欢玩游戏  热爱思考  谈恋爱  勤奋\n",
      "序号                            \n",
      "6      1      0     1    1   0\n"
     ]
    }
   ],
   "source": [
    "#条件查找，返回所有不勤奋却顺利毕业的人的集合m。 len(m)则表示总人数。\n",
    "m = df.loc[(df[\"顺利毕业\"] == 1) & (df[\"勤奋\"] == 0), :]\n",
    "print(m)"
   ]
  },
  {
   "cell_type": "markdown",
   "metadata": {},
   "source": [
    "算法里主要包含两个函数：\n",
    "- def Bayesian_classifier()\n",
    "- def Bayesian_estimation()"
   ]
  },
  {
   "cell_type": "code",
   "execution_count": 34,
   "metadata": {},
   "outputs": [],
   "source": [
    "import pandas as pd\n",
    "import numpy as np\n",
    "def Bayesian_classifier(df, df_test):\n",
    "    lamb = 1 #当lamb=0时为极大似然估计；当lamb=1时为拉普拉斯平滑\n",
    "    category = [ ] #这个空列表存储每个样本最终被系统认定的类别。计算完毕后将category作为一列添加到df_test里\n",
    "    num_cate = df[df.columns[0]].unique()  #获取类别总数，这个例子里只有0和1两个类别代表顺利毕业和延期毕业\n",
    "    #todo 计算先验概率\n",
    "    P_prio = []\n",
    "    for t in range(len(num_cate)):\n",
    "        P_prio.append((len(df.loc[(df[df.columns[0]] == num_cate[t]), :]) + lamb)/(len(df) + lamb * len(num_cate))) #len(df)表示样本总数\n",
    "    for k in range(len(pd.value_counts(df_test[df_test.columns[0]]))):  #todo 对验证集里每个样本分别判断\n",
    "        a_sample = df_test.loc[k] #获取单个样本的信息，比如我的师妹的信息为（0,0,0,1）\n",
    "        P = np.ones((len(df.columns) , len(num_cate))) #这个式子用来保存所有的概率\n",
    "        P[0,:] = P_prio\n",
    "        for i in range(len(df.columns) - 1):  # todo len(df.columns) - 1表示特征的总个数\n",
    "            for j in range(len(num_cate)):  #todo 分别计算归属某一类的条件概率P(x1|Y=1)，P(x1|Y=0)\n",
    "                P[i+1, j] = Bayesian_estimation(df, df.columns[i + 1], a_sample[i+1], df.columns[0], num_cate[j],\n",
    "                                              len(pd.value_counts(df[df.columns[i + 1]])), lamb)\n",
    "        #todo 按列求连乘，然后返回最大值对应的索引\n",
    "        Q2 = [] #Q2用来保存概率连乘的结果，比如（师妹被判断为类别1的概率，师妹被判断为类别2的概率）\n",
    "        for j in range(len(num_cate)):\n",
    "            Q1 = 1  # 保存每一类别的概率\n",
    "            for i in range(len(df.columns)):\n",
    "                Q1 = Q1 * P[i,j]\n",
    "            Q2.append(Q1)\n",
    "        category.append(num_cate[Q2.index(max(Q2))]) #返回Q2最大值对应的索引\n",
    "    df_test.loc[:, \"类别\"] = category #把类别结果添加到测试样本数据表中\n",
    "    return df_test\n",
    "def Bayesian_estimation(df, a, a_sample, c, ck, S, lamb):\n",
    "    # todo 用c表示所属类别（即顺利毕业与否），a表示特征的取值（如勤奋与否、是否谈恋爱等特征）\n",
    "    I1 = len(df.loc[(df[c] == ck) & (df[a] == a_sample), :])  #这里要注意是同一类型去比较，而不是int与str比较\n",
    "    I2 = len(df.loc[(df[c] == ck) , :])\n",
    "    P = (I1 + lamb)/(I2 + lamb * S)\n",
    "    return P\n",
    "if __name__ == '__main__':\n",
    "    #todo 获取数据集\n",
    "    fpath = \"./课题组毕业的师兄师姐信息.xlsx\"\n",
    "    df = pd.read_excel(fpath)\n",
    "    df.set_index('序号', inplace=True)  ##设定索引为序号，方便按序号筛选\n",
    "    #todo 自定义测试集\n",
    "    data = {\n",
    "        '姓名': ['师妹', '李四', '王五'],\n",
    "        '喜欢玩游戏': ['0', '1', '1'],\n",
    "        '热爱思考': ['0', '0', '0'],\n",
    "        '谈恋爱': ['0', '0', '1'],\n",
    "        '勤奋': ['1', '0', '0']\n",
    "    }\n",
    "    df_test = pd.DataFrame(data)\n",
    "    df = df.applymap(str)\n",
    "    df_test = df_test.applymap(str) #避免混乱，str类型的1不等于int类型的1\n",
    "    result = Bayesian_classifier(df, df_test)"
   ]
  },
  {
   "cell_type": "code",
   "execution_count": 35,
   "metadata": {},
   "outputs": [
    {
     "data": {
      "text/html": [
       "<div>\n",
       "<style scoped>\n",
       "    .dataframe tbody tr th:only-of-type {\n",
       "        vertical-align: middle;\n",
       "    }\n",
       "\n",
       "    .dataframe tbody tr th {\n",
       "        vertical-align: top;\n",
       "    }\n",
       "\n",
       "    .dataframe thead th {\n",
       "        text-align: right;\n",
       "    }\n",
       "</style>\n",
       "<table border=\"1\" class=\"dataframe\">\n",
       "  <thead>\n",
       "    <tr style=\"text-align: right;\">\n",
       "      <th></th>\n",
       "      <th>姓名</th>\n",
       "      <th>喜欢玩游戏</th>\n",
       "      <th>热爱思考</th>\n",
       "      <th>谈恋爱</th>\n",
       "      <th>勤奋</th>\n",
       "      <th>类别</th>\n",
       "    </tr>\n",
       "  </thead>\n",
       "  <tbody>\n",
       "    <tr>\n",
       "      <th>0</th>\n",
       "      <td>师妹</td>\n",
       "      <td>0</td>\n",
       "      <td>0</td>\n",
       "      <td>0</td>\n",
       "      <td>1</td>\n",
       "      <td>1</td>\n",
       "    </tr>\n",
       "    <tr>\n",
       "      <th>1</th>\n",
       "      <td>李四</td>\n",
       "      <td>1</td>\n",
       "      <td>0</td>\n",
       "      <td>0</td>\n",
       "      <td>0</td>\n",
       "      <td>0</td>\n",
       "    </tr>\n",
       "    <tr>\n",
       "      <th>2</th>\n",
       "      <td>王五</td>\n",
       "      <td>1</td>\n",
       "      <td>0</td>\n",
       "      <td>1</td>\n",
       "      <td>0</td>\n",
       "      <td>0</td>\n",
       "    </tr>\n",
       "  </tbody>\n",
       "</table>\n",
       "</div>"
      ],
      "text/plain": [
       "   姓名 喜欢玩游戏 热爱思考 谈恋爱 勤奋 类别\n",
       "0  师妹     0    0   0  1  1\n",
       "1  李四     1    0   0  0  0\n",
       "2  王五     1    0   1  0  0"
      ]
     },
     "execution_count": 35,
     "metadata": {},
     "output_type": "execute_result"
    }
   ],
   "source": [
    "#打印最终的结果，类别为1则顺利毕业\n",
    "result"
   ]
  },
  {
   "cell_type": "code",
   "execution_count": null,
   "metadata": {},
   "outputs": [],
   "source": []
  }
 ],
 "metadata": {
  "kernelspec": {
   "display_name": "Python 3",
   "language": "python",
   "name": "python3"
  },
  "language_info": {
   "codemirror_mode": {
    "name": "ipython",
    "version": 3
   },
   "file_extension": ".py",
   "mimetype": "text/x-python",
   "name": "python",
   "nbconvert_exporter": "python",
   "pygments_lexer": "ipython3",
   "version": "3.7.0"
  }
 },
 "nbformat": 4,
 "nbformat_minor": 2
}
